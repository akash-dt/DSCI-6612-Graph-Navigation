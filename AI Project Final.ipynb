{
 "cells": [
  {
   "cell_type": "code",
   "execution_count": null,
   "id": "0f539318",
   "metadata": {},
   "outputs": [],
   "source": [
    "import osmnx as ox\n",
    "import matplotlib.pyplot as plt\n",
    "import networkx as nx\n",
    "from geopy.distance import geodesic\n",
    "from geopy.geocoders import Nominatim\n",
    "import pickle\n",
    "import heapq\n",
    "import math\n",
    "import folium\n",
    "import pandas as pd\n",
    "from collections import deque"
   ]
  },
  {
   "cell_type": "markdown",
   "id": "9d8fe924",
   "metadata": {},
   "source": [
    "Generating Graph for pedestrian pathway using OpenSourceMaps library osmnx"
   ]
  },
  {
   "cell_type": "code",
   "execution_count": null,
   "id": "15ccd941",
   "metadata": {},
   "outputs": [],
   "source": [
    "# Set Location\n",
    "place_name = \"University of New Haven,CT,USA\"\n",
    "\n",
    "# Fetch the street network for the set location\n",
    "G = ox.graph_from_place(place_name, network_type='walk')\n",
    "\n",
    "# Plot the graph along with place name and geodata\n",
    "fig, ax = ox.plot_graph(G, show=False, close=False)\n",
    "ax.set_title(place_name, fontsize=12)  # Set the place name as the title\n",
    "\n",
    "# Visualise\n",
    "plt.show()"
   ]
  },
  {
   "cell_type": "markdown",
   "id": "b1b24ff2",
   "metadata": {},
   "source": [
    "Above graph generated does not contain proper weights for each edge and node data does not contain name of the place it points.Calculating distance between two nodes of the edges in meters and reverse geocoding node name and address using it's lat and long co-ordinates."
   ]
  },
  {
   "cell_type": "markdown",
   "id": "f127ded7",
   "metadata": {},
   "source": [
    "Please insert your Google maps API key inplace of google_maps_api_key"
   ]
  },
  {
   "cell_type": "code",
   "execution_count": null,
   "id": "d98f508e",
   "metadata": {},
   "outputs": [],
   "source": [
    "# Initialize a geolocator for reverse geocoding\n",
    "geolocator = GoogleV3(api_key=google_maps_api_key)\n",
    "\n",
    "# Calculate geographical distances between nodes and set them as edge weights\n",
    "for u, v, data in G.edges(data=True):\n",
    "    # Get the latitude and longitude of the nodes\n",
    "    coords_u = (G.nodes[u]['y'], G.nodes[u]['x'])\n",
    "    coords_v = (G.nodes[v]['y'], G.nodes[v]['x'])\n",
    "    \n",
    "    # Compute the geographical distance between nodes using geodesic\n",
    "    distance = geodesic(coords_u, coords_v).meters  # Distance in meters\n",
    "    \n",
    "    # Set the edge attribute 'weight' with the computed distance\n",
    "    G[u][v][0]['weight'] = distance  # Setting for the first (0th) edge attribute\n",
    "\n",
    "# Reverse geocode node names to addresses and update node names accordingly\n",
    "for node in G.nodes():\n",
    "    # Get the latitude and longitude of the node\n",
    "    lat = G.nodes[node]['y']\n",
    "    lon = G.nodes[node]['x']\n",
    "    # Reverse geocode to get the address\n",
    "    location = geolocator.reverse((lat, lon), exactly_one=True)\n",
    "    if location:\n",
    "        name = location.address.split(',')[0]\n",
    "        address=location.address\n",
    "    \n",
    "    # Update the node attribute 'address' with the reverse geocoded address\n",
    "    G.nodes[node]['address'] = address\n",
    "\n",
    "    # Update the node attribute 'name' with only the node name\n",
    "    G.nodes[node]['name'] = name\n",
    "    print(\"H\",G.nodes[node])"
   ]
  },
  {
   "cell_type": "markdown",
   "id": "af83cf00",
   "metadata": {},
   "source": [
    "Configuration for Graph Generated"
   ]
  },
  {
   "cell_type": "code",
   "execution_count": null,
   "id": "940c32cc",
   "metadata": {},
   "outputs": [],
   "source": [
    "print(\"Number of Nodes\",loaded_graph.number_of_nodes())\n",
    "print(\"Number of Edges\",loaded_graph.number_of_edges())"
   ]
  },
  {
   "cell_type": "markdown",
   "id": "08ff8356",
   "metadata": {},
   "source": [
    "Saving Edge data"
   ]
  },
  {
   "cell_type": "code",
   "execution_count": null,
   "id": "000a76d3",
   "metadata": {},
   "outputs": [],
   "source": [
    "edge_pd=[]\n",
    "for start,end ,data in G.edges(data=True):\n",
    "    data['start']=start\n",
    "    data['end']=end\n",
    "    edge_pd.append(data)"
   ]
  },
  {
   "cell_type": "code",
   "execution_count": null,
   "id": "691a317a",
   "metadata": {},
   "outputs": [],
   "source": [
    "#saving edge dataframe \n",
    "edge_pd=pd.DataFrame(edge_pd).to_csv('Ai_project_edge_data.csv')\n"
   ]
  },
  {
   "cell_type": "code",
   "execution_count": null,
   "id": "e76cb0ef",
   "metadata": {},
   "outputs": [],
   "source": [
    "edge_pd.head(5)"
   ]
  },
  {
   "cell_type": "code",
   "execution_count": null,
   "id": "dd17a870",
   "metadata": {},
   "outputs": [],
   "source": [
    "node_pd=[]\n",
    "for x,data in G.nodes(data=True):\n",
    "    data['id']=x\n",
    "    node_pd.append(data)"
   ]
  },
  {
   "cell_type": "code",
   "execution_count": null,
   "id": "e9aafbf0",
   "metadata": {},
   "outputs": [],
   "source": [
    "#saving node dataframe \n",
    "node_pd=pd.DataFrame(node_pd).to_csv('Ai_project_node_data.csv')\n"
   ]
  },
  {
   "cell_type": "code",
   "execution_count": null,
   "id": "b62a298a",
   "metadata": {},
   "outputs": [],
   "source": [
    "node_pd"
   ]
  },
  {
   "cell_type": "markdown",
   "id": "896c09b7",
   "metadata": {},
   "source": [
    "Visualizing Full Graph"
   ]
  },
  {
   "cell_type": "code",
   "execution_count": null,
   "id": "f3855de4",
   "metadata": {},
   "outputs": [],
   "source": [
    "# Create a folium map centered at the first node\n",
    "mymap = folium.Map(location=list((loaded_graph.nodes[178537304]['y'],loaded_graph.nodes[178537304]['x'])), zoom_start=50)\n",
    "\n",
    "# Plot each node on the map with its name\n",
    "for node, coordinates in loaded_graph.nodes(data=True):\n",
    "#     print(node,(loaded_graph.nodes[node]['y'],loaded_graph.nodes[node]['x']),coordinates['name'],coordinates)\n",
    "#     folium.Marker(location=(loaded_graph.nodes[node]['y'],loaded_graph.nodes[node]['x']), popup=node).add_to(mymap)\n",
    "    folium.Marker(location=(loaded_graph.nodes[node]['y'],loaded_graph.nodes[node]['x']),popup=node).add_to(mymap)\n",
    "\n",
    "# Plot edges on the map\n",
    "for start,end,edge in loaded_graph.edges(data=True):\n",
    "#     print(start,end,edge)\n",
    "    start_node=start\n",
    "    end_node=end\n",
    "    if start_node==end_node or 'weight' not in edge:\n",
    "        weight=0\n",
    "    else:weight = edge['weight']\n",
    "    folium.PolyLine([(loaded_graph.nodes[start_node]['y'],loaded_graph.nodes[start_node]['x']), (loaded_graph.nodes[end_node]['y'],loaded_graph.nodes[end_node]['x'])], color=\"black\", weight=2.5, opacity=1, popup=f\"{weight:.2f} meters\").add_to(mymap)\n",
    "\n",
    "# Save the map to an HTML file\n",
    "mymap.save(\"map_with_nodes.html\")"
   ]
  },
  {
   "cell_type": "markdown",
   "id": "a7f04a1f",
   "metadata": {},
   "source": [
    "Set Start and End Nodes based on Id from node_pd"
   ]
  },
  {
   "cell_type": "code",
   "execution_count": null,
   "id": "192b90b9",
   "metadata": {},
   "outputs": [],
   "source": [
    "start_test=2096427235\n",
    "end_test=3437140637\n"
   ]
  },
  {
   "cell_type": "markdown",
   "id": "2949acf4",
   "metadata": {},
   "source": [
    "Creating base code for A* Algorithm"
   ]
  },
  {
   "cell_type": "code",
   "execution_count": null,
   "id": "cadc2b28",
   "metadata": {},
   "outputs": [],
   "source": [
    "def aStarSearch(graph,start,end,heuristic):\n",
    "    print(\"start\",start)\n",
    "    print(\"end\",end)\n",
    "    open_list = [(0, start)]\n",
    "    heapq.heapify(open_list)\n",
    "    \n",
    "    parents = {}\n",
    "    g_values = {node: float('inf') for node in graph.nodes()}\n",
    "    g_values[start] = 0\n",
    "    nodes_expanded=[start]\n",
    "    count=0\n",
    "    while open_list:\n",
    "        \n",
    "        \n",
    "        _, current_node = heapq.heappop(open_list)\n",
    "        count+=1\n",
    "        nodes_expanded.append(current_node)\n",
    "        if current_node == end:\n",
    "            path = [end]\n",
    "            while end != start:\n",
    "                path.append(parents[end])\n",
    "                end = parents[end]\n",
    "            print(\"Node Visited\",count)\n",
    "            return (path[::-1],nodes_expanded)\n",
    "        \n",
    "        for neighbor in graph.neighbors(current_node):            \n",
    "            tentative_g_value = g_values[current_node] + graph[current_node][neighbor][0]['weight']\n",
    "            \n",
    "            if tentative_g_value < g_values[neighbor]:\n",
    "                parents[neighbor] = current_node\n",
    "                g_values[neighbor] = tentative_g_value\n",
    "                \n",
    "                f_value = tentative_g_value + heuristic(graph.nodes[neighbor], graph.nodes[end])\n",
    "                heapq.heappush(open_list, (f_value, neighbor))\n",
    "                \n",
    "    \n",
    "    return None"
   ]
  },
  {
   "cell_type": "markdown",
   "id": "8f8234f8",
   "metadata": {},
   "source": [
    "Function to calculate Haversine Heuristic"
   ]
  },
  {
   "cell_type": "code",
   "execution_count": null,
   "id": "00c5ac56",
   "metadata": {},
   "outputs": [],
   "source": [
    "def haversine(neighbor,end):\n",
    "#     print(\"neighbor\",neighbor)\n",
    "#     print(\"end\",end)\n",
    "    distance_meters = calculate_distance(neighbor['x'],neighbor['y'], end['x'], end['y'])\n",
    "    return distance_meters\n",
    "\n",
    "def calculate_distance(lat1, lon1, lat2, lon2):\n",
    "    # Convert latitude and longitude from degrees to radians\n",
    "    lat1 = math.radians(lat1)\n",
    "    lon1 = math.radians(lon1)\n",
    "    lat2 = math.radians(lat2)\n",
    "    lon2 = math.radians(lon2)\n",
    "    \n",
    "    # Haversine formula to calculate distance between two points on Earth\n",
    "    dlon = lon2 - lon1\n",
    "    dlat = lat2 - lat1\n",
    "    a = math.sin(dlat / 2)**2 + math.cos(lat1) * math.cos(lat2) * math.sin(dlon / 2)**2\n",
    "    c = 2 * math.atan2(math.sqrt(a), math.sqrt(1 - a))\n",
    "    distance = 6371 * c * 1000  # Radius of Earth in kilometers * distance (in meters)\n",
    "    \n",
    "    return distance"
   ]
  },
  {
   "cell_type": "markdown",
   "id": "9676bf6d",
   "metadata": {},
   "source": [
    "Function to calculate Euclidean Distance Heuristic"
   ]
  },
  {
   "cell_type": "code",
   "execution_count": null,
   "id": "2202cf0d",
   "metadata": {},
   "outputs": [],
   "source": [
    "def euclidean_distance(node1, node2):\n",
    "    x1, y1 = node1['x'], node1['y']\n",
    "    x2, y2 = node2['x'], node2['y']\n",
    "    return math.sqrt((x2 - x1)**2 + (y2 - y1)**2)"
   ]
  },
  {
   "cell_type": "markdown",
   "id": "734f0118",
   "metadata": {},
   "source": [
    "Function to calculate Octile Distance Heuristic"
   ]
  },
  {
   "cell_type": "code",
   "execution_count": null,
   "id": "62dd03cf",
   "metadata": {},
   "outputs": [],
   "source": [
    "def octile_distance(node1, node2):\n",
    "    dx = abs(node2['x'] - node1['x'])\n",
    "    dy = abs(node2['y'] - node1['y'])\n",
    "    return max(dx, dy) + (math.sqrt(2) - 1) * min(dx, dy)"
   ]
  },
  {
   "cell_type": "markdown",
   "id": "22b0bf8f",
   "metadata": {},
   "source": [
    "Function to calculate Chebyshev Distance Heuristic"
   ]
  },
  {
   "cell_type": "code",
   "execution_count": null,
   "id": "3b6a151a",
   "metadata": {},
   "outputs": [],
   "source": [
    "def chebyshev_distance(node1, node2):\n",
    "    dx = abs(node2['x'] - node1['x'])\n",
    "    dy = abs(node2['y'] - node1['y'])\n",
    "    return max(dx, dy)"
   ]
  },
  {
   "cell_type": "markdown",
   "id": "09253e7e",
   "metadata": {},
   "source": [
    "Function for Null Heuristic"
   ]
  },
  {
   "cell_type": "code",
   "execution_count": null,
   "id": "bf7360aa",
   "metadata": {},
   "outputs": [],
   "source": [
    "def null_heuristic(neighbor,end):\n",
    "    return 0"
   ]
  },
  {
   "cell_type": "markdown",
   "id": "73311451",
   "metadata": {},
   "source": [
    "A* with Null Heuristic"
   ]
  },
  {
   "cell_type": "code",
   "execution_count": null,
   "id": "ac538a48",
   "metadata": {},
   "outputs": [],
   "source": [
    "#A* Search null\n",
    "shortest_path,nodes_expanded=aStarSearch(loaded_graph,start_test,end_test,null_heuristic)"
   ]
  },
  {
   "cell_type": "markdown",
   "id": "e725afdd",
   "metadata": {},
   "source": [
    "Plot A* path and nodes expanded with null heuristic"
   ]
  },
  {
   "cell_type": "code",
   "execution_count": null,
   "id": "3ef68ae7",
   "metadata": {},
   "outputs": [],
   "source": [
    "#Plot A* Map\n",
    "# Create a folium map centered at the first node\n",
    "mymap = folium.Map(location=list((loaded_graph.nodes[178537304]['y'],loaded_graph.nodes[178537304]['x'])), zoom_start=50)\n",
    "\n",
    "# Plot each node on the map with its name\n",
    "for node, coordinates in loaded_graph.nodes(data=True):\n",
    "#     print(node,(loaded_graph.nodes[node]['y'],loaded_graph.nodes[node]['x']),coordinates['name'],coordinates)\n",
    "#     folium.Marker(location=(loaded_graph.nodes[node]['y'],loaded_graph.nodes[node]['x']), popup=node).add_to(mymap)\n",
    "    folium.Marker(location=(loaded_graph.nodes[node]['y'],loaded_graph.nodes[node]['x']),popup=node).add_to(mymap)\n",
    "\n",
    "# Plot edges on the map\n",
    "for start,end,edge in loaded_graph.edges(data=True):\n",
    "#     print(start,end,edge)\n",
    "    start_node=start\n",
    "    end_node=end\n",
    "    if start_node==end_node or 'weight' not in edge:\n",
    "        weight=0\n",
    "    else:weight = edge['weight']\n",
    "    folium.PolyLine([(loaded_graph.nodes[start_node]['y'],loaded_graph.nodes[start_node]['x']), (loaded_graph.nodes[end_node]['y'],loaded_graph.nodes[end_node]['x'])], color=\"black\", weight=2.5, opacity=1, popup=f\"{weight:.2f} meters\").add_to(mymap)\n",
    "# Plot the expanded nodes\n",
    "\n",
    "for node in nodes_expanded:\n",
    "    path_coordinates = [(loaded_graph.nodes[neighbour]['y'],loaded_graph.nodes[neighbour]['x'])for neighbour in loaded_graph.neighbors(node)]\n",
    "    folium.PolyLine(path_coordinates, color=\"Yellow\", weight=5, opacity=1).add_to(mymap)\n",
    "\n",
    "# Plot the shortest path in red\n",
    "distance=0\n",
    "for i  in range(len(shortest_path)-1):\n",
    "#     print(loaded_graph.get_edge_data(shortest_path[i],shortest_path[i+1])[0])\n",
    "    distance+=loaded_graph.get_edge_data(shortest_path[i],shortest_path[i+1])[0]['weight']\n",
    "path_coordinates = [(loaded_graph.nodes[node]['y'],loaded_graph.nodes[node]['x'])for node in shortest_path]\n",
    "folium.PolyLine(path_coordinates, color=\"red\", weight=5, opacity=1, popup=f\"Shortest Path: {distance:.2f} meters\").add_to(mymap)\n",
    "\n",
    "# Save the map to an HTML file\n",
    "mymap.save(\"map_with_nodes_Astar_null.html\")"
   ]
  },
  {
   "cell_type": "markdown",
   "id": "2c83ef47",
   "metadata": {},
   "source": [
    "A* with Haversine Heuristic"
   ]
  },
  {
   "cell_type": "code",
   "execution_count": null,
   "id": "2a88c866",
   "metadata": {},
   "outputs": [],
   "source": [
    "#A* Search haversine\n",
    "shortest_path,nodes_expanded=aStarSearch(loaded_graph,start_test,end_test,haversine)"
   ]
  },
  {
   "cell_type": "markdown",
   "id": "7b4227cd",
   "metadata": {},
   "source": [
    "Plot A* path and nodes expanded with Haversine heuristic"
   ]
  },
  {
   "cell_type": "code",
   "execution_count": null,
   "id": "21608338",
   "metadata": {},
   "outputs": [],
   "source": [
    "#Plot A* Map\n",
    "# Create a folium map centered at the first node\n",
    "mymap = folium.Map(location=list((loaded_graph.nodes[178537304]['y'],loaded_graph.nodes[178537304]['x'])), zoom_start=50)\n",
    "\n",
    "# Plot each node on the map with its name\n",
    "for node, coordinates in loaded_graph.nodes(data=True):\n",
    "#     print(node,(loaded_graph.nodes[node]['y'],loaded_graph.nodes[node]['x']),coordinates['name'],coordinates)\n",
    "#     folium.Marker(location=(loaded_graph.nodes[node]['y'],loaded_graph.nodes[node]['x']), popup=node).add_to(mymap)\n",
    "    folium.Marker(location=(loaded_graph.nodes[node]['y'],loaded_graph.nodes[node]['x']),popup=node).add_to(mymap)\n",
    "\n",
    "# Plot edges on the map\n",
    "for start,end,edge in loaded_graph.edges(data=True):\n",
    "#     print(start,end,edge)\n",
    "    start_node=start\n",
    "    end_node=end\n",
    "    if start_node==end_node or 'weight' not in edge:\n",
    "        weight=0\n",
    "    else:weight = edge['weight']\n",
    "    folium.PolyLine([(loaded_graph.nodes[start_node]['y'],loaded_graph.nodes[start_node]['x']), (loaded_graph.nodes[end_node]['y'],loaded_graph.nodes[end_node]['x'])], color=\"black\", weight=2.5, opacity=1, popup=f\"{weight:.2f} meters\").add_to(mymap)\n",
    "# Plot the expanded nodes\n",
    "\n",
    "for node in nodes_expanded:\n",
    "    path_coordinates = [(loaded_graph.nodes[neighbour]['y'],loaded_graph.nodes[neighbour]['x'])for neighbour in loaded_graph.neighbors(node)]\n",
    "    folium.PolyLine(path_coordinates, color=\"Yellow\", weight=5, opacity=1).add_to(mymap)\n",
    "\n",
    "# Plot the shortest path in red\n",
    "distance=0\n",
    "for i  in range(len(shortest_path)-1):\n",
    "#     print(loaded_graph.get_edge_data(shortest_path[i],shortest_path[i+1])[0])\n",
    "    distance+=loaded_graph.get_edge_data(shortest_path[i],shortest_path[i+1])[0]['weight']\n",
    "path_coordinates = [(loaded_graph.nodes[node]['y'],loaded_graph.nodes[node]['x'])for node in shortest_path]\n",
    "folium.PolyLine(path_coordinates, color=\"red\", weight=5, opacity=1, popup=f\"Shortest Path: {distance:.2f} meters\").add_to(mymap)\n",
    "\n",
    "# Save the map to an HTML file\n",
    "mymap.save(\"map_with_nodes_Astar_haversine.html\")"
   ]
  },
  {
   "cell_type": "markdown",
   "id": "f99f70e3",
   "metadata": {},
   "source": [
    "A* with Eculidean Distance Heuristic"
   ]
  },
  {
   "cell_type": "code",
   "execution_count": null,
   "id": "2f6577df",
   "metadata": {},
   "outputs": [],
   "source": [
    "#A* Search eculidean\n",
    "shortest_path,nodes_expanded=aStarSearch(loaded_graph,start_test,end_test,euclidean_distance)"
   ]
  },
  {
   "cell_type": "markdown",
   "id": "2d5f3b57",
   "metadata": {},
   "source": [
    "Plot A* path and nodes expanded with Eculidean Distance heuristic"
   ]
  },
  {
   "cell_type": "code",
   "execution_count": null,
   "id": "0662cc43",
   "metadata": {},
   "outputs": [],
   "source": [
    "#Plot A* Map\n",
    "# Create a folium map centered at the first node\n",
    "mymap = folium.Map(location=list((loaded_graph.nodes[178537304]['y'],loaded_graph.nodes[178537304]['x'])), zoom_start=50)\n",
    "\n",
    "# Plot each node on the map with its name\n",
    "for node, coordinates in loaded_graph.nodes(data=True):\n",
    "#     print(node,(loaded_graph.nodes[node]['y'],loaded_graph.nodes[node]['x']),coordinates['name'],coordinates)\n",
    "#     folium.Marker(location=(loaded_graph.nodes[node]['y'],loaded_graph.nodes[node]['x']), popup=node).add_to(mymap)\n",
    "    folium.Marker(location=(loaded_graph.nodes[node]['y'],loaded_graph.nodes[node]['x']),popup=node).add_to(mymap)\n",
    "\n",
    "# Plot edges on the map\n",
    "for start,end,edge in loaded_graph.edges(data=True):\n",
    "#     print(start,end,edge)\n",
    "    start_node=start\n",
    "    end_node=end\n",
    "    if start_node==end_node or 'weight' not in edge:\n",
    "        weight=0\n",
    "    else:weight = edge['weight']\n",
    "    folium.PolyLine([(loaded_graph.nodes[start_node]['y'],loaded_graph.nodes[start_node]['x']), (loaded_graph.nodes[end_node]['y'],loaded_graph.nodes[end_node]['x'])], color=\"black\", weight=2.5, opacity=1, popup=f\"{weight:.2f} meters\").add_to(mymap)\n",
    "# Plot the expanded nodes\n",
    "\n",
    "for node in nodes_expanded:\n",
    "    path_coordinates = [(loaded_graph.nodes[neighbour]['y'],loaded_graph.nodes[neighbour]['x'])for neighbour in loaded_graph.neighbors(node)]\n",
    "    folium.PolyLine(path_coordinates, color=\"Yellow\", weight=5, opacity=1).add_to(mymap)\n",
    "\n",
    "# Plot the shortest path in red\n",
    "distance=0\n",
    "for i  in range(len(shortest_path)-1):\n",
    "#     print(loaded_graph.get_edge_data(shortest_path[i],shortest_path[i+1])[0])\n",
    "    distance+=loaded_graph.get_edge_data(shortest_path[i],shortest_path[i+1])[0]['weight']\n",
    "path_coordinates = [(loaded_graph.nodes[node]['y'],loaded_graph.nodes[node]['x'])for node in shortest_path]\n",
    "folium.PolyLine(path_coordinates, color=\"red\", weight=5, opacity=1, popup=f\"Shortest Path: {distance:.2f} meters\").add_to(mymap)\n",
    "\n",
    "# Save the map to an HTML file\n",
    "mymap.save(\"map_with_nodes_Astar_eculidean.html\")"
   ]
  },
  {
   "cell_type": "markdown",
   "id": "c99cb94e",
   "metadata": {},
   "source": [
    "A* with Octile Distance Heuristic"
   ]
  },
  {
   "cell_type": "code",
   "execution_count": null,
   "id": "2f10f745",
   "metadata": {},
   "outputs": [],
   "source": [
    "#A* Search octile\n",
    "shortest_path,nodes_expanded=aStarSearch(loaded_graph,start_test,end_test,octile_distance)"
   ]
  },
  {
   "cell_type": "markdown",
   "id": "9e6ab6a2",
   "metadata": {},
   "source": [
    "Plot A* path and nodes expanded with Octile Distance heuristic"
   ]
  },
  {
   "cell_type": "code",
   "execution_count": null,
   "id": "da278508",
   "metadata": {},
   "outputs": [],
   "source": [
    "#Plot A* Map\n",
    "# Create a folium map centered at the first node\n",
    "mymap = folium.Map(location=list((loaded_graph.nodes[178537304]['y'],loaded_graph.nodes[178537304]['x'])), zoom_start=50)\n",
    "\n",
    "# Plot each node on the map with its name\n",
    "for node, coordinates in loaded_graph.nodes(data=True):\n",
    "#     print(node,(loaded_graph.nodes[node]['y'],loaded_graph.nodes[node]['x']),coordinates['name'],coordinates)\n",
    "#     folium.Marker(location=(loaded_graph.nodes[node]['y'],loaded_graph.nodes[node]['x']), popup=node).add_to(mymap)\n",
    "    folium.Marker(location=(loaded_graph.nodes[node]['y'],loaded_graph.nodes[node]['x']),popup=node).add_to(mymap)\n",
    "\n",
    "# Plot edges on the map\n",
    "for start,end,edge in loaded_graph.edges(data=True):\n",
    "#     print(start,end,edge)\n",
    "    start_node=start\n",
    "    end_node=end\n",
    "    if start_node==end_node or 'weight' not in edge:\n",
    "        weight=0\n",
    "    else:weight = edge['weight']\n",
    "    folium.PolyLine([(loaded_graph.nodes[start_node]['y'],loaded_graph.nodes[start_node]['x']), (loaded_graph.nodes[end_node]['y'],loaded_graph.nodes[end_node]['x'])], color=\"black\", weight=2.5, opacity=1, popup=f\"{weight:.2f} meters\").add_to(mymap)\n",
    "# Plot the expanded nodes\n",
    "\n",
    "for node in nodes_expanded:\n",
    "    path_coordinates = [(loaded_graph.nodes[neighbour]['y'],loaded_graph.nodes[neighbour]['x'])for neighbour in loaded_graph.neighbors(node)]\n",
    "    folium.PolyLine(path_coordinates, color=\"Yellow\", weight=5, opacity=1).add_to(mymap)\n",
    "\n",
    "# Plot the shortest path in red\n",
    "distance=0\n",
    "for i  in range(len(shortest_path)-1):\n",
    "#     print(loaded_graph.get_edge_data(shortest_path[i],shortest_path[i+1])[0])\n",
    "    distance+=loaded_graph.get_edge_data(shortest_path[i],shortest_path[i+1])[0]['weight']\n",
    "path_coordinates = [(loaded_graph.nodes[node]['y'],loaded_graph.nodes[node]['x'])for node in shortest_path]\n",
    "folium.PolyLine(path_coordinates, color=\"red\", weight=5, opacity=1, popup=f\"Shortest Path: {distance:.2f} meters\").add_to(mymap)\n",
    "\n",
    "# Save the map to an HTML file\n",
    "mymap.save(\"map_with_nodes_Astar_octile.html\")"
   ]
  },
  {
   "cell_type": "markdown",
   "id": "206ebcfc",
   "metadata": {},
   "source": [
    "A* with Chebyshev Heuristic"
   ]
  },
  {
   "cell_type": "code",
   "execution_count": null,
   "id": "94240703",
   "metadata": {},
   "outputs": [],
   "source": [
    "#A* Search chebyshev\n",
    "shortest_path,nodes_expanded=aStarSearch(loaded_graph,start_test,end_test,chebyshev_distance)"
   ]
  },
  {
   "cell_type": "markdown",
   "id": "3dd502cb",
   "metadata": {},
   "source": [
    "Plot A* path and nodes expanded with Chebyshev heuristic"
   ]
  },
  {
   "cell_type": "code",
   "execution_count": null,
   "id": "44f2a808",
   "metadata": {},
   "outputs": [],
   "source": [
    "#Plot A* Map\n",
    "# Create a folium map centered at the first node\n",
    "mymap = folium.Map(location=list((loaded_graph.nodes[178537304]['y'],loaded_graph.nodes[178537304]['x'])), zoom_start=50)\n",
    "\n",
    "# Plot each node on the map with its name\n",
    "for node, coordinates in loaded_graph.nodes(data=True):\n",
    "#     print(node,(loaded_graph.nodes[node]['y'],loaded_graph.nodes[node]['x']),coordinates['name'],coordinates)\n",
    "#     folium.Marker(location=(loaded_graph.nodes[node]['y'],loaded_graph.nodes[node]['x']), popup=node).add_to(mymap)\n",
    "    folium.Marker(location=(loaded_graph.nodes[node]['y'],loaded_graph.nodes[node]['x']),popup=node).add_to(mymap)\n",
    "\n",
    "# Plot edges on the map\n",
    "for start,end,edge in loaded_graph.edges(data=True):\n",
    "#     print(start,end,edge)\n",
    "    start_node=start\n",
    "    end_node=end\n",
    "    if start_node==end_node or 'weight' not in edge:\n",
    "        weight=0\n",
    "    else:weight = edge['weight']\n",
    "    folium.PolyLine([(loaded_graph.nodes[start_node]['y'],loaded_graph.nodes[start_node]['x']), (loaded_graph.nodes[end_node]['y'],loaded_graph.nodes[end_node]['x'])], color=\"black\", weight=2.5, opacity=1, popup=f\"{weight:.2f} meters\").add_to(mymap)\n",
    "# Plot the expanded nodes\n",
    "\n",
    "for node in nodes_expanded:\n",
    "    path_coordinates = [(loaded_graph.nodes[neighbour]['y'],loaded_graph.nodes[neighbour]['x'])for neighbour in loaded_graph.neighbors(node)]\n",
    "    folium.PolyLine(path_coordinates, color=\"Yellow\", weight=5, opacity=1).add_to(mymap)\n",
    "\n",
    "# Plot the shortest path in red\n",
    "distance=0\n",
    "for i  in range(len(shortest_path)-1):\n",
    "#     print(loaded_graph.get_edge_data(shortest_path[i],shortest_path[i+1])[0])\n",
    "    distance+=loaded_graph.get_edge_data(shortest_path[i],shortest_path[i+1])[0]['weight']\n",
    "path_coordinates = [(loaded_graph.nodes[node]['y'],loaded_graph.nodes[node]['x'])for node in shortest_path]\n",
    "folium.PolyLine(path_coordinates, color=\"red\", weight=5, opacity=1, popup=f\"Shortest Path: {distance:.2f} meters\").add_to(mymap)\n",
    "\n",
    "# Save the map to an HTML file\n",
    "mymap.save(\"map_with_nodes_Astar_chebyshev.html\")"
   ]
  },
  {
   "cell_type": "markdown",
   "id": "9d7d27e1",
   "metadata": {},
   "source": [
    "Implementing Depth First Search"
   ]
  },
  {
   "cell_type": "code",
   "execution_count": null,
   "id": "b168ea8a",
   "metadata": {},
   "outputs": [],
   "source": [
    "#DFS\n",
    "def depth_first_search_path(graph, start, end):\n",
    "    stack = [(start, [start])]\n",
    "    visited = set()\n",
    "\n",
    "    while stack:\n",
    "        (current, path) = stack.pop()\n",
    "        visited.add(current)\n",
    "\n",
    "        if current == end:\n",
    "            return path, visited\n",
    "\n",
    "        for neighbor in graph.neighbors(current):\n",
    "            if neighbor not in visited:\n",
    "                stack.append((neighbor, path + [neighbor]))\n",
    "                visited.add(neighbor)\n",
    "\n",
    "    return None, visited\n",
    "\n"
   ]
  },
  {
   "cell_type": "code",
   "execution_count": null,
   "id": "42a1a221",
   "metadata": {},
   "outputs": [],
   "source": [
    "path, visited_nodes = depth_first_search_path(loaded_graph, start_test, end_test)"
   ]
  },
  {
   "cell_type": "code",
   "execution_count": null,
   "id": "d3d3b65f",
   "metadata": {},
   "outputs": [],
   "source": [
    "print(\"No of Nodes Visited\",len(visited_nodes))"
   ]
  },
  {
   "cell_type": "markdown",
   "id": "07bce853",
   "metadata": {},
   "source": [
    "Plot DFS on map"
   ]
  },
  {
   "cell_type": "code",
   "execution_count": null,
   "id": "dd555d97",
   "metadata": {},
   "outputs": [],
   "source": [
    "import folium\n",
    "\n",
    "# Create a folium map centered at the first node\n",
    "mymap = folium.Map(location=list((loaded_graph.nodes[178537304]['y'],loaded_graph.nodes[178537304]['x'])), zoom_start=50)\n",
    "\n",
    "# Plot each node on the map with its name\n",
    "for node, coordinates in loaded_graph.nodes(data=True):\n",
    "#     print(node,(loaded_graph.nodes[node]['y'],loaded_graph.nodes[node]['x']),coordinates['name'],coordinates)\n",
    "#     folium.Marker(location=(loaded_graph.nodes[node]['y'],loaded_graph.nodes[node]['x']), popup=node).add_to(mymap)\n",
    "    folium.Marker(location=(loaded_graph.nodes[node]['y'],loaded_graph.nodes[node]['x']),popup=node).add_to(mymap)\n",
    "\n",
    "# Plot edges on the map\n",
    "for start,end,edge in loaded_graph.edges(data=True):\n",
    "#     print(start,end,edge)\n",
    "    start_node=start\n",
    "    end_node=end\n",
    "    if start_node==end_node or 'weight' not in edge:\n",
    "        weight=0\n",
    "    else:weight = edge['weight']\n",
    "    folium.PolyLine([(loaded_graph.nodes[start_node]['y'],loaded_graph.nodes[start_node]['x']), (loaded_graph.nodes[end_node]['y'],loaded_graph.nodes[end_node]['x'])], color=\"black\", weight=2.5, opacity=1, popup=f\"{weight:.2f} meters\").add_to(mymap)\n",
    "\n",
    "# Plot the expanded nodes\n",
    "path_coordinates=[]\n",
    "for node in visited_nodes:\n",
    "    path_coordinates.append((loaded_graph.nodes[node]['y'],loaded_graph.nodes[node]['x']))\n",
    "    folium.PolyLine(path_coordinates, color=\"Yellow\", weight=5, opacity=1).add_to(mymap)\n",
    "\n",
    "# Plot the shortest path in red\n",
    "distance=0\n",
    "for i  in range(len(path)-1):\n",
    "#     print(loaded_graph.get_edge_data(shortest_path[i],shortest_path[i+1])[0])\n",
    "    distance+=loaded_graph.get_edge_data(path[i],path[i+1])[0]['weight']\n",
    "path_coordinates = [(loaded_graph.nodes[node]['y'],loaded_graph.nodes[node]['x'])for node in path]\n",
    "folium.PolyLine(path_coordinates, color=\"red\", weight=5, opacity=1, popup=f\"Shortest Path: {distance:.2f} meters\").add_to(mymap)\n",
    "\n",
    "# Save the map to an HTML file\n",
    "mymap.save(\"map_with_nodes_dfs.html\")"
   ]
  },
  {
   "cell_type": "markdown",
   "id": "97af0fc6",
   "metadata": {},
   "source": [
    "Implementing Breath First Search"
   ]
  },
  {
   "cell_type": "code",
   "execution_count": null,
   "id": "906ff159",
   "metadata": {},
   "outputs": [],
   "source": [
    "def bfs(graph, start, end):\n",
    "    visited = set()\n",
    "    queue = deque([(start, [start])])\n",
    "    visited_nodes = []  # To store visited nodes\n",
    "\n",
    "    while queue:\n",
    "        current_node, path = queue.popleft()\n",
    "        visited.add(current_node)\n",
    "        visited_nodes.append(current_node)\n",
    "\n",
    "        if current_node == end:\n",
    "            return path, visited_nodes\n",
    "\n",
    "        for neighbor in graph.neighbors(current_node):\n",
    "            if neighbor not in visited:\n",
    "                queue.append((neighbor, path + [neighbor]))\n",
    "\n",
    "    return None, visited_nodes"
   ]
  },
  {
   "cell_type": "code",
   "execution_count": null,
   "id": "34d2f7c1",
   "metadata": {},
   "outputs": [],
   "source": [
    "path, visited_nodes = bfs(loaded_graph, start_test,end_test)"
   ]
  },
  {
   "cell_type": "code",
   "execution_count": null,
   "id": "631a177d",
   "metadata": {},
   "outputs": [],
   "source": [
    "print(\"No of Nodes Visited\",len(visited_nodes))"
   ]
  },
  {
   "cell_type": "markdown",
   "id": "f0cfda6c",
   "metadata": {},
   "source": [
    "Plot BFS on Map"
   ]
  },
  {
   "cell_type": "code",
   "execution_count": null,
   "id": "6d1c22d1",
   "metadata": {},
   "outputs": [],
   "source": [
    "import folium\n",
    "\n",
    "# Create a folium map centered at the first node\n",
    "mymap = folium.Map(location=list((loaded_graph.nodes[178537304]['y'],loaded_graph.nodes[178537304]['x'])), zoom_start=30)\n",
    "\n",
    "# Plot each node on the map with its name\n",
    "for node, coordinates in loaded_graph.nodes(data=True):\n",
    "#     print(node,(loaded_graph.nodes[node]['y'],loaded_graph.nodes[node]['x']),coordinates['name'],coordinates)\n",
    "#     folium.Marker(location=(loaded_graph.nodes[node]['y'],loaded_graph.nodes[node]['x']), popup=node).add_to(mymap)\n",
    "    folium.Marker(location=(loaded_graph.nodes[node]['y'],loaded_graph.nodes[node]['x']),popup=node).add_to(mymap)\n",
    "\n",
    "# Plot edges on the map\n",
    "for start,end,edge in loaded_graph.edges(data=True):\n",
    "#     print(start,end,edge)\n",
    "    start_node=start\n",
    "    end_node=end\n",
    "    if start_node==end_node or 'weight' not in edge:\n",
    "        weight=0\n",
    "    else:weight = edge['weight']\n",
    "    folium.PolyLine([(loaded_graph.nodes[start_node]['y'],loaded_graph.nodes[start_node]['x']), (loaded_graph.nodes[end_node]['y'],loaded_graph.nodes[end_node]['x'])], color=\"black\", weight=2.5, opacity=1, popup=f\"{weight:.2f} meters\").add_to(mymap)\n",
    "\n",
    "# Plot the expanded nodes\n",
    "path_coordinates=[]\n",
    "for node in visited_nodes:\n",
    "    path_coordinates.append((loaded_graph.nodes[node]['y'],loaded_graph.nodes[node]['x']))\n",
    "    folium.PolyLine(path_coordinates, color=\"Yellow\", weight=5, opacity=1).add_to(mymap)\n",
    "\n",
    "# Plot the shortest path in red\n",
    "distance=0\n",
    "for i  in range(len(path)-1):\n",
    "#     print(loaded_graph.get_edge_data(shortest_path[i],shortest_path[i+1])[0])\n",
    "    distance+=loaded_graph.get_edge_data(path[i],path[i+1])[0]['weight']\n",
    "path_coordinates = [(loaded_graph.nodes[node]['y'],loaded_graph.nodes[node]['x'])for node in path]\n",
    "folium.PolyLine(path_coordinates, color=\"red\", weight=5, opacity=1, popup=f\"Shortest Path: {distance:.2f} meters\").add_to(mymap)\n",
    "\n",
    "# Save the map to an HTML file\n",
    "mymap.save(\"map_with_nodes_bfs.html\")"
   ]
  }
 ],
 "metadata": {
  "kernelspec": {
   "display_name": "Python 3 (ipykernel)",
   "language": "python",
   "name": "python3"
  },
  "language_info": {
   "codemirror_mode": {
    "name": "ipython",
    "version": 3
   },
   "file_extension": ".py",
   "mimetype": "text/x-python",
   "name": "python",
   "nbconvert_exporter": "python",
   "pygments_lexer": "ipython3",
   "version": "3.9.13"
  }
 },
 "nbformat": 4,
 "nbformat_minor": 5
}
